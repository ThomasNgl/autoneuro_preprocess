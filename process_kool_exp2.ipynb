{
 "cells": [
  {
   "cell_type": "code",
   "execution_count": 1,
   "metadata": {},
   "outputs": [
    {
     "name": "stdout",
     "output_type": "stream",
     "text": [
      "Intel MKL WARNING: Support of Intel(R) Streaming SIMD Extensions 4.2 (Intel(R) SSE4.2) enabled only processors has been deprecated. Intel oneAPI Math Kernel Library 2025.0 will require Intel(R) Advanced Vector Extensions (Intel(R) AVX) instructions.\n",
      "Intel MKL WARNING: Support of Intel(R) Streaming SIMD Extensions 4.2 (Intel(R) SSE4.2) enabled only processors has been deprecated. Intel oneAPI Math Kernel Library 2025.0 will require Intel(R) Advanced Vector Extensions (Intel(R) AVX) instructions.\n"
     ]
    }
   ],
   "source": [
    "import pandas as pd\n",
    "import os \n",
    "path_to_kool_exp2 = '/Users/thomasnegrello/Desktop/autoneuro/datasets/kool_exp2/'\n",
    "df = pd.read_csv(path_to_kool_exp2+'experiment2/data.csv', sep=\"\\s+\")\n",
    "\n",
    "#remove pactice\n",
    "df = df[df['practice']==0]\n",
    "#remove missed\n",
    "df = df[df['responsekey1']!=-1] \n",
    "df = df[df['responsekey2']!=-1] \n",
    "#compute rewards\n",
    "df['reward'] = df['win']*df['stake']\n",
    "df = df.loc[:,['ID', 'choice1', 'choice2', 'state2', 'reward', 'trial_number']]\n"
   ]
  },
  {
   "cell_type": "code",
   "execution_count": 2,
   "metadata": {},
   "outputs": [
    {
     "name": "stdout",
     "output_type": "stream",
     "text": [
      "0        1\n",
      "1        1\n",
      "2        2\n",
      "3        2\n",
      "4        1\n",
      "        ..\n",
      "38349    2\n",
      "38350    1\n",
      "38351    1\n",
      "38352    2\n",
      "38353    0\n",
      "Name: a_next, Length: 38354, dtype: int64\n"
     ]
    }
   ],
   "source": [
    "#define states\n",
    "green_ship = [1,0,0,0,0]\n",
    "blue_ship = [0,1,0,0,0]\n",
    "red_planet = [0,0,1,0,0]\n",
    "purple_planet = [0,0,0,1,0]\n",
    "next_episode = [0,0,0,0,1]\n",
    "\n",
    "#one hot vector encoding \n",
    "#each state is a vector not a scalar\n",
    "new_state1 = []\n",
    "for choice1 in df['choice1']:\n",
    "    if choice1 == 1:\n",
    "        new_state1.append(green_ship)\n",
    "    if choice1 == 2:\n",
    "        new_state1.append(blue_ship)\n",
    "df['state1'] = new_state1\n",
    "\n",
    "new_state2 = []\n",
    "for state2 in df['state2']:\n",
    "    if state2 == 1:\n",
    "        new_state2.append(red_planet)\n",
    "    elif state2 == 2:\n",
    "        new_state2.append(purple_planet)\n",
    "df['state2'] = new_state2\n",
    "\n",
    "#reorganize df\n",
    "df = df.loc[:,['ID', 'state1', 'choice1', 'state2', 'choice2', 'reward', 'trial_number']]\n",
    "df = df.reset_index()\n",
    "\n",
    "#two stages from one trial become 2 samples/data_points in the dataset\n",
    "new_id = []\n",
    "new_state = []\n",
    "new_choice = []\n",
    "new_state_next = []\n",
    "new_choice_next = []\n",
    "new_reward = []\n",
    "new_trial_number = []\n",
    "\n",
    "nb_samples = len(df)\n",
    "for i in range(0,nb_samples):\n",
    "    row = df.iloc[i]\n",
    "\n",
    "    new_id.append(row['ID'])\n",
    "    new_state.append(row['state1'])\n",
    "    new_choice.append(row['choice1'])\n",
    "    new_reward.append(0)\n",
    "    new_state_next.append(row['state2'])\n",
    "    new_choice_next.append(row['choice2'])\n",
    "    new_trial_number.append(row['trial_number'])\n",
    "\n",
    "    new_id.append(row['ID'])\n",
    "    new_state.append(row['state2'])\n",
    "    new_choice.append(row['choice2'])\n",
    "    new_reward.append(row['reward'])\n",
    "    new_state_next.append(next_episode)\n",
    "    if i != len(df)-1:\n",
    "        next_row = df.iloc[i+1]\n",
    "        if row['ID'] == next_row['ID']:\n",
    "            new_choice_next.append(next_row['choice1'])\n",
    "        else:\n",
    "            new_choice_next.append(0)\n",
    "    else:\n",
    "        new_choice_next.append(0)\n",
    "    new_trial_number.append(row['trial_number'])\n",
    "\n",
    "fdf=pd.DataFrame()\n",
    "df_state2 = pd.DataFrame(new_state2)\n",
    "\n",
    "fdf['id'] = new_id\n",
    "fdf['s'] = new_state\n",
    "fdf_s = pd.DataFrame(fdf['s'].apply(lambda x: [float(val) for val in x]).to_list())\n",
    "fdf['a'] = new_choice \n",
    "fdf['s_next'] = new_state_next\n",
    "fdf_s_next = pd.DataFrame(fdf['s_next'].apply(lambda x: [float(val) for val in x]).to_list())\n",
    "fdf['a_next'] = new_choice_next \n",
    "fdf['r'] = new_reward\n",
    "fdf['trial_number'] = new_trial_number\n",
    "\n",
    "#set a = 0 or 1 not a = 1 or 2\n",
    "fdf['a'] -= 1\n",
    "fdf['a_next'] -= 1\n",
    "\n",
    "fdf = fdf.loc[:,['id', 's', 'a', 's_next', 'a_next', 'r', 'trial_number']]"
   ]
  },
  {
   "cell_type": "code",
   "execution_count": 4,
   "metadata": {},
   "outputs": [],
   "source": [
    "#split up the dataset according to the participant ID\n",
    "nb_participants = 100\n",
    "participants = []\n",
    "for i in range(1,nb_participants+1):\n",
    "    participant = 'Sub'+str(i)\n",
    "    participants.append(fdf[fdf['id']==participant].reset_index())"
   ]
  },
  {
   "cell_type": "code",
   "execution_count": 6,
   "metadata": {},
   "outputs": [],
   "source": [
    "path_to_processed_kool_exp2 = '/Users/thomasnegrello/Desktop/autoneuro/datasets/datasets_processed/kool_exp2/'\n",
    "\n",
    "for participant in participants:\n",
    "    p_id = participant['id'].iloc[0]\n",
    "    path_folder = path_to_processed_kool_exp2 + p_id\n",
    "    os.mkdir(path_folder)\n",
    "\n",
    "    path_r = path_to_processed_kool_exp2 + p_id + '/rewards.csv'\n",
    "    participant['r'].to_csv(path_r, header=False, index=False)\n",
    "\n",
    "    path_s = path_to_processed_kool_exp2 + p_id + '/observations.csv'\n",
    "    fdf_s.to_csv(path_s, header=False, index=False)\n",
    "\n",
    "    path_s_next = path_to_processed_kool_exp2 + p_id + '/next_observations.csv'\n",
    "    fdf_s_next.to_csv(path_s_next, header=False, index=False)\n",
    "\n",
    "    path_a = path_to_processed_kool_exp2 + p_id + '/actions.csv'\n",
    "    participant['a'].to_csv(path_a, header=False, index=False)\n",
    "\n",
    "    path_a_next = path_to_processed_kool_exp2 + p_id + '/next_actions.csv'\n",
    "    participant['a_next'].to_csv(path_a_next, header=False, index=False)"
   ]
  }
 ],
 "metadata": {
  "kernelspec": {
   "display_name": "autoneuro",
   "language": "python",
   "name": "python3"
  },
  "language_info": {
   "codemirror_mode": {
    "name": "ipython",
    "version": 3
   },
   "file_extension": ".py",
   "mimetype": "text/x-python",
   "name": "python",
   "nbconvert_exporter": "python",
   "pygments_lexer": "ipython3",
   "version": "3.10.13"
  },
  "orig_nbformat": 4
 },
 "nbformat": 4,
 "nbformat_minor": 2
}
