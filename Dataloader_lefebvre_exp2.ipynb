{
 "cells": [
  {
   "cell_type": "code",
   "execution_count": null,
   "metadata": {},
   "outputs": [],
   "source": [
    "from scipy.io import loadmat\n",
    "import pandas as pd\n",
    "import os \n",
    "# print(len(data['stimuli']))\n",
    "# print(len(data['triggers'][0]))\n",
    "nb_subjects = 35\n",
    "path_to_lefebvre_exp2 = '/Users/thomasnegrello/Desktop/autoneuro/datasets/Lefebvre_2017/BehavioralData/data_exp2/'\n",
    "path_to_processed_lefebvre_exp2 = '/Users/thomasnegrello/Desktop/autoneuro/datasets/datasets_processed/dataset_lefebvre_exp2/'"
   ]
  },
  {
   "cell_type": "code",
   "execution_count": null,
   "metadata": {},
   "outputs": [],
   "source": [
    "for id in range(1, nb_subjects+1):\n",
    "    data = loadmat(path_to_lefebvre_exp2 + 'exp2_'+ str(id) + '.mat')\n",
    "\n",
    "    # In Behavioral_Varialbles.m, the third, fifth and eigth columns are extracted and correspond to variables of interest.\n",
    "    observations = data['data'][:,2]\n",
    "    # In Behavioral_Varialbles.m, actions is rescaled \n",
    "    actions = data['data'][:,4]/2 +0.5\n",
    "    rewards = data['data'][:,7]\n",
    "\n",
    "    # Create new DataFrame using the generated columns\n",
    "    fdf = pd.DataFrame({\n",
    "        's': observations,\n",
    "        'a': actions,\n",
    "        'r': rewards,\n",
    "        })\n",
    "    \n",
    "    # One hot encoding\n",
    "    state2_map = {1: [1,0,0,0], 2: [0,1,0,0], 3: [0,0,1,0], 4: [0,0,0,1]}\n",
    "    fdf['s'] = fdf['s'].map(state2_map)\n",
    "\n",
    "    # Shifting and filling NaN for action and state column\n",
    "    action_shifted = fdf['a'].shift(-1)\n",
    "    action_shifted.iloc[-1] = -1\n",
    "    observations_shifted = fdf['s'].shift(-1)\n",
    "    observations_shifted.iloc[-1] = -1\n",
    "    \n",
    "    fdf['s_next']= observations_shifted\n",
    "    fdf['a_next']= action_shifted\n",
    "    \n",
    "    subject_id = 'Sub' + str(id)\n",
    "    \n",
    "    # Create the directory for the subject\n",
    "    subject_folder = os.path.join(path_to_processed_lefebvre_exp2, subject_id)\n",
    "    os.mkdir(subject_folder)\n",
    "    \n",
    "    # Save the required columns to their respective files\n",
    "    column_to_filename = {\n",
    "        'r': 'rewards.csv',\n",
    "        's': 'observations.csv',\n",
    "        's_next': 'next_observations.csv',\n",
    "        'a': 'actions.csv',\n",
    "        'a_next': 'next_actions.csv'\n",
    "    }\n",
    "\n",
    "    for col, filename in column_to_filename.items():\n",
    "        file_path = os.path.join(subject_folder, filename)\n",
    "        fdf[col].to_csv(file_path, header=False, index=False)"
   ]
  }
 ],
 "metadata": {
  "kernelspec": {
   "display_name": "autoneuro",
   "language": "python",
   "name": "python3"
  },
  "language_info": {
   "codemirror_mode": {
    "name": "ipython",
    "version": 3
   },
   "file_extension": ".py",
   "mimetype": "text/x-python",
   "name": "python",
   "nbconvert_exporter": "python",
   "pygments_lexer": "ipython3",
   "version": "3.10.13"
  },
  "orig_nbformat": 4
 },
 "nbformat": 4,
 "nbformat_minor": 2
}
